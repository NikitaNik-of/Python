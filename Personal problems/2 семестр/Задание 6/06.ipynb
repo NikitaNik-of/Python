{
 "cells": [
  {
   "cell_type": "markdown",
   "metadata": {},
   "source": [
    "Ввод библиотек для работы основной части кода"
   ]
  },
  {
   "cell_type": "code",
   "execution_count": 1,
   "metadata": {},
   "outputs": [],
   "source": [
    "import numpy as np\n",
    "from math import *\n",
    "import matplotlib.pyplot as plt"
   ]
  },
  {
   "cell_type": "markdown",
   "metadata": {},
   "source": [
    "Создание функции согласно условию.  \n",
    "Блок *if* появляется из-за ограниченности Python в поиске значений кубических корней отрицательных чисел"
   ]
  },
  {
   "cell_type": "code",
   "execution_count": 2,
   "metadata": {},
   "outputs": [],
   "source": [
    "def f_x(x: float):\n",
    "    # return x ** 2 + 16 / x - 16\n",
    "    if x >= 3:\n",
    "        return (2 * (x**2) * (x - 3)) ** (1/3)\n",
    "    if x < 3:\n",
    "        return (2 * (x**2) * (3 - x)) ** (1/3) * -1"
   ]
  },
  {
   "cell_type": "markdown",
   "metadata": {},
   "source": [
    "Ввод дополнительной фунции для подсчета многочлена.  \n",
    "Т.е. на ввод идет переменная x, и список коэффициентов многочлена. "
   ]
  },
  {
   "cell_type": "code",
   "execution_count": 3,
   "metadata": {},
   "outputs": [],
   "source": [
    "def g_x(x: np.linspace, a: list):\n",
    "    y = 0\n",
    "    for i in range(len(a)):\n",
    "        y += float(a[i])*(x**i)\n",
    "    return y"
   ]
  },
  {
   "cell_type": "markdown",
   "metadata": {},
   "source": [
    "Ввод функции на поиск минимума на отрезке  \n",
    "\n",
    "---\n",
    "На ввод подаются левая и правая граница отрезка. После этого мы ищем центр отрезка *x_c*. Рассматриваем в окрестности этой точке левую и правую часть. Если левая часть \"выше\" правой части на графике окрестности точки *x_c*, то мы \"передвигаем\" левую границу к центру, иначе - правую к центру.  \n",
    "Ну и циклируем это 1к раз. "
   ]
  },
  {
   "cell_type": "code",
   "execution_count": 4,
   "metadata": {},
   "outputs": [],
   "source": [
    "def fmin(x_l, x_r):\n",
    "    dx = 1e-2\n",
    "    for _ in range(1000):\n",
    "        x_c = 0.5*(x_l + x_r)\n",
    "        if f_x(x_c - dx) > f_x(x_c + dx):\n",
    "            x_l = x_c\n",
    "        else: x_r = x_c\n",
    "    return x_c"
   ]
  },
  {
   "cell_type": "markdown",
   "metadata": {},
   "source": [
    "Аналогичная функция для поиска максимума."
   ]
  },
  {
   "cell_type": "code",
   "execution_count": 5,
   "metadata": {},
   "outputs": [],
   "source": [
    "def fmax(x_l, x_r):\n",
    "    dx = 1e-2\n",
    "    for _ in range(1000):\n",
    "        x_c = 0.5*(x_l + x_r)\n",
    "        if f_x(x_c - dx) < f_x(x_c + dx):\n",
    "            x_l = x_c\n",
    "        else: x_r = x_c\n",
    "    return x_c"
   ]
  },
  {
   "cell_type": "markdown",
   "metadata": {},
   "source": [
    "Ввод констант и переменных"
   ]
  },
  {
   "cell_type": "code",
   "execution_count": 6,
   "metadata": {},
   "outputs": [],
   "source": [
    "dx = 0.001\n",
    "x = np.linspace(-1.3, 6.3, 200)\n",
    "y = np.array([f_x(t) for t in x])"
   ]
  },
  {
   "cell_type": "markdown",
   "metadata": {},
   "source": [
    "Поиск min/max в данных отрезках (*ar*) и помещение этих точек в список *pts*"
   ]
  },
  {
   "cell_type": "code",
   "execution_count": 7,
   "metadata": {},
   "outputs": [],
   "source": [
    "ar = [-1, 0.5, 2.5, 4.25, 6]\n",
    "pts = [[], []]\n",
    "for i in range(len(ar) - 1):\n",
    "    mn = fmin(ar[i], ar[i + 1])\n",
    "    mx = fmax(ar[i], ar[i + 1])\n",
    "    pts[0].append(mn)\n",
    "    pts[1].append(f_x(mn))\n",
    "    pts[0].append(mx)\n",
    "    pts[1].append(f_x(mx))"
   ]
  },
  {
   "cell_type": "markdown",
   "metadata": {},
   "source": [
    "Сортируем точки по значению x"
   ]
  },
  {
   "cell_type": "code",
   "execution_count": 8,
   "metadata": {},
   "outputs": [],
   "source": [
    "for i in range(len(pts[0])):\n",
    "    for j in range(i, len(pts[0])):\n",
    "        if pts[0][i] >= pts[0][j]:\n",
    "            pts[0][i], pts[0][j] = pts[0][j], pts[0][i]\n",
    "            pts[1][i], pts[1][j] = pts[1][j], pts[1][i]"
   ]
  },
  {
   "cell_type": "markdown",
   "metadata": {},
   "source": [
    "\"Чистка\" списка точек (if в точках [x_0, ..., x_n] - монотонная функция, тогда убираем точки x_1, ... , x_n-1)"
   ]
  },
  {
   "cell_type": "code",
   "execution_count": 9,
   "metadata": {},
   "outputs": [],
   "source": [
    "pts_ = [[], []]\n",
    "for i in range(len(pts[0])):\n",
    "    if (i == 0) or (i == len(pts[0]) - 1):\n",
    "        pts_[0].append(pts[0][i])\n",
    "        pts_[1].append(pts[1][i])\n",
    "    elif not((pts[1][i-1] <= pts[1][i] <= pts[1][i+1]) or (pts[1][i-1] >= pts[1][i] >= pts[1][i+1])):\n",
    "        pts_[0].append(pts[0][i])\n",
    "        pts_[1].append(pts[1][i])"
   ]
  },
  {
   "cell_type": "markdown",
   "metadata": {},
   "source": [
    "Вывод графика *f_x* и точек минимума и максимума"
   ]
  },
  {
   "cell_type": "code",
   "execution_count": 10,
   "metadata": {},
   "outputs": [
    {
     "data": {
      "image/png": "[encoded data removed]",
      "text/plain": [
       "<Figure size 432x288 with 1 Axes>"
      ]
     },
     "metadata": {
      "needs_background": "light"
     },
     "output_type": "display_data"
    }
   ],
   "source": [
    "fig = plt.figure(10)\n",
    "ax = fig.add_subplot(1, 1, 1)\n",
    "ax.grid(True)\n",
    "ax.plot(x, y, linewidth=1.5, color='red')\n",
    "ax.scatter(pts_[0], pts_[1], linewidth=1, color='blue', marker='*')\n",
    "\n",
    "plt.show()"
   ]
  }
 ],
 "metadata": {
  "interpreter": {
   "hash": "11938c6bc6919ae2720b4d5011047913343b08a43b18698fd82dedb0d4417594"
  },
  "kernelspec": {
   "display_name": "Python 3.9.9 64-bit",
   "language": "python",
   "name": "python3"
  },
  "language_info": {
   "codemirror_mode": {
    "name": "ipython",
    "version": 3
   },
   "file_extension": ".py",
   "mimetype": "text/x-python",
   "name": "python",
   "nbconvert_exporter": "python",
   "pygments_lexer": "ipython3",
   "version": "3.9.9"
  },
  "orig_nbformat": 4
 },
 "nbformat": 4,
 "nbformat_minor": 2
}
